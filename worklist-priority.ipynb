import pandas as pd
import numpy as np

worklist = pd.read_csv('probabilities.csv')

worklist.head()
print(worklist.head())

worklist['initial_reading_time'] = np.arange(6, len(worklist) + 6) * 6
print(worklist['initial_reading_time'])

worklist['max_prob'] = worklist[['Brain_bleed_probability', 'Aortic_dissection_probability']].max(axis=1)
worklist.head()

worklist_prioritized = worklist.sort_values(by=['max_prob'],ascending=False)
worklist.head()

worklist_prioritized['time_to_read_prioritized'] = np.arange(6, 6*(len(worklist)+1),6)

worklist_prioritized['time_delta'] = worklist_prioritized['initial_reading_time'] - worklist_prioritized['time_to_read_prioritized']
worklist_prioritized.head()

worklist_prioritized[((worklist_prioritized.time_delta>30)&(worklist_prioritized.Image_Type=='head_ct'))]

worklist_prioritized[((worklist_prioritized.time_delta>=15)&(worklist_prioritized.Image_Type=='chest_xray'))]
